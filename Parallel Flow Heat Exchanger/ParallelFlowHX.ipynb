{
 "cells": [
  {
   "cell_type": "markdown",
   "metadata": {
    "colab_type": "text",
    "id": "4si3Op6y1aET"
   },
   "source": [
    "# Overview\n",
    "This notebook will be utilized to capture the Parallel Flow Heat Exchanger Solution which was evaluated, via a Youtube tutorial by Kody Powell: https://www.youtube.com/watch?v=Mte-Z_929FI \n",
    "\n",
    "The purpose of this notebook will be to convert the solution from that analysis into an easy-to-digest notebook.\n",
    "\n",
    "Once the notebook has been proven, I will attempt to either export it in an HTML format, or utilize a Wordpress plugin to directly import it and display the notebook within a blog post. \n",
    "\n",
    "Here we go! "
   ]
  },
  {
   "cell_type": "markdown",
   "metadata": {
    "colab_type": "text",
    "id": "MPym1_QC2Ml0"
   },
   "source": [
    "# Initialization"
   ]
  },
  {
   "cell_type": "markdown",
   "metadata": {
    "colab_type": "text",
    "id": "RmQFWScd2nj6"
   },
   "source": [
    "We start by importing the necessary modules which will be utilized for the computational portion of this analysis:\n",
    "\n",
    "\n",
    "*   Numpy - Computation\n",
    "*   Matplotlib - Figure Plotting\n",
    "\n"
   ]
  },
  {
   "cell_type": "code",
   "execution_count": 0,
   "metadata": {
    "colab": {},
    "colab_type": "code",
    "id": "1PNBz1Ou1EYZ"
   },
   "outputs": [],
   "source": [
    "import numpy as np\n",
    "import matplotlib.pyplot as plt"
   ]
  },
  {
   "cell_type": "markdown",
   "metadata": {
    "colab_type": "text",
    "id": "G8z8fp5O3oRP"
   },
   "source": [
    "## Constants Definition"
   ]
  },
  {
   "cell_type": "markdown",
   "metadata": {
    "colab_type": "text",
    "id": "MSQ510ec3sDh"
   },
   "source": [
    "Next, we define the constants that will be utilized in achieving this solution"
   ]
  },
  {
   "cell_type": "markdown",
   "metadata": {
    "colab_type": "text",
    "id": "HP-FN0Rl33Ww"
   },
   "source": [
    "#### Geometry"
   ]
  },
  {
   "cell_type": "code",
   "execution_count": 0,
   "metadata": {
    "colab": {},
    "colab_type": "code",
    "id": "Fcio-9p-4APO"
   },
   "outputs": [],
   "source": [
    "L = 60# m, pipe length\n",
    "r1 = 0.10# m, pipe radius\n",
    "r2 = 0.15# m, outer pipe radius\n",
    "\n",
    "n = 100# number of nodes used\n",
    "dx = L/n # m, node width\n",
    "\n",
    "pi = 3.14159\n",
    "Ac1 = pi*r1**2 # m^2, cross-sectional area of inner pipe\n",
    "Ac2 = pi*(r2**2 - r1**2) # m^2, cross-sectional area of inner pipe"
   ]
  },
  {
   "cell_type": "markdown",
   "metadata": {
    "colab_type": "text",
    "id": "40-kxVUO4SFA"
   },
   "source": [
    "#### Thermo Properties"
   ]
  },
  {
   "cell_type": "code",
   "execution_count": 0,
   "metadata": {
    "colab": {},
    "colab_type": "code",
    "id": "vSoJ1Lfj4Xtz"
   },
   "outputs": [],
   "source": [
    "m1 = 3 # kg/s, mass flow rate\n",
    "cp1 = 4180 # J/kg*K, heat capacity of fluid (water)\n",
    "rho1 = 1000 #kg/m^3, density of fluid (water)\n",
    "\n",
    "m2 = 5# kg/s, mass flow rate\n",
    "cp2 = 4180# J/kg*K, heat capacity of fluid (water)\n",
    "rho2 = 1000#kg/m^3, density of fluid (water)\n",
    "\n",
    "T1i = 400 #K, inlet temperature\n",
    "T2i = 800 #K, pipe inner surface temperature\n",
    "T0 = 300 #K, initial temperature of fluid throught the pipe\n",
    "\n",
    "U = 340 #W/m^2*K, overall heat transfer coefficient"
   ]
  },
  {
   "cell_type": "markdown",
   "metadata": {
    "colab_type": "text",
    "id": "o1wTOh0j448h"
   },
   "source": [
    "#### Analysis Properties"
   ]
  },
  {
   "cell_type": "code",
   "execution_count": 0,
   "metadata": {
    "colab": {},
    "colab_type": "code",
    "id": "DQhwPbIk47L6"
   },
   "outputs": [],
   "source": [
    "t_final = 1000 #s, simulation time\n",
    "dt = 1 #s, time step\n",
    "x = np.linspace(dx/2, L - dx/2, n)\n",
    "\n",
    "T1 = np.ones(n)*T0\n",
    "T2 = np.ones(n)*T0\n",
    "\n",
    "dT1dt = np.zeros(n)\n",
    "dT2dt = np.zeros(n)\n",
    "\n",
    "t = np.arange(0, t_final, dt) # time vector"
   ]
  },
  {
   "cell_type": "markdown",
   "metadata": {
    "colab_type": "text",
    "id": "--PrEI9Q5IJg"
   },
   "source": [
    "# Simulation"
   ]
  },
  {
   "cell_type": "markdown",
   "metadata": {
    "colab_type": "text",
    "id": "BBsqSr2U5LPl"
   },
   "source": [
    "Now that we have all the preliminary items initialized, we are ready to run the analysis. [Here we will take the derivative of the energy balance equation described as...]"
   ]
  },
  {
   "cell_type": "code",
   "execution_count": null,
   "metadata": {},
   "outputs": [],
   "source": [
    "for j in range(1,len(t)):\n",
    "    \n",
    "    plt.clf()\n",
    "    \n",
    "    dT1dt[1:n] = (m1*cp1*(T1[0:n-1]-T1[1:n])+U*2*pi*r1*dx*(T2[1:n]-T1[1:n]))/(rho1*cp1*dx*Ac1)\n",
    "    dT1dt[0] = (m1*cp1*(T1i-T1[0])+U*2*pi*r1*dx*(T2[0]-T1[0]))/(rho1*cp1*dx*Ac1)\n",
    "    \n",
    "    dT2dt[1:n] = (m2*cp2*(T2[0:n-1]-T2[1:n])-U*2*pi*r1*dx*(T2[1:n]-T1[1:n]))/(rho2*cp2*dx*Ac2)\n",
    "    dT2dt[0] = (m2*cp2*(T2i-T2[0])-U*2*pi*r1*dx*(T2[0]-T1[0]))/(rho2*cp2*dx*Ac2)\n",
    "    \n",
    "    T1 = T1 + dT1dt*dt\n",
    "    T2 = T2 + dT2dt*dt\n",
    "    \n",
    "    plt.figure(1)\n",
    "    plt.plot(x, T1, color = 'blue', label = 'inside')\n",
    "    plt.plot(x, T2, color = 'red', label = 'outside')\n",
    "    plt.axis([0, L, 298, 820])\n",
    "    plt.xlabel('Distance (m)')\n",
    "    plt.ylabel('Temperature (K)')\n",
    "    plt.legend(loc = 'upper right')\n",
    "    plt.show()\n",
    "    plt.pause(0.005)"
   ]
  }
 ],
 "metadata": {
  "colab": {
   "name": "ParallelFlowHX.ipynb",
   "provenance": []
  },
  "kernelspec": {
   "display_name": "Python 3",
   "language": "python",
   "name": "python3"
  },
  "language_info": {
   "codemirror_mode": {
    "name": "ipython",
    "version": 3
   },
   "file_extension": ".py",
   "mimetype": "text/x-python",
   "name": "python",
   "nbconvert_exporter": "python",
   "pygments_lexer": "ipython3",
   "version": "3.7.3"
  }
 },
 "nbformat": 4,
 "nbformat_minor": 1
}
